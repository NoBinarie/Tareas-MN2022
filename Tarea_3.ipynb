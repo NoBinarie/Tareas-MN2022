{
 "cells": [
  {
   "cell_type": "code",
   "execution_count": 1,
   "id": "732408cc",
   "metadata": {},
   "outputs": [],
   "source": [
    "#TAREA 3 BASTIAN O. ESPINOZA A. RUT 209397501\n",
    "#Grafique la media móvil a 7 días del número de nuevos casos COVID19 en la región de Valparaíso usando los datos puestos arriba.\n",
    "#La media móvil a 7 días consiste en que cada punto de la curva contiene el promedio de nuevos casos en los últimos 7 días."
   ]
  },
  {
   "cell_type": "code",
   "execution_count": 2,
   "id": "9996f1df",
   "metadata": {},
   "outputs": [],
   "source": [
    "casos = [0, 0, 0, 0, 0, 0, 0, 0, 0, 0, 0, 0, 0, 0, 0, 0, 2, 1, 0, 2, 1, 5, 1, 1, 1, 1, 3, 9, 1, 2, 4, 1, 9, 6, 1, 1, 4, 5, 0, 3, 2, 0, 0, 0, 2, 0, 0, 0, 1, 0, 1, 0, 2, 1, 0, 1, 0, 2, 0, 1, 1, 10, 3, 6, 0, 3, 11, 18, 6, 5, 8, 5, 12, 15, 7, 7, 18, 27, 24, 5, 13, 13, 29, 15, 46, 71, 27, 55, 60, 31, 40, 19, 31, 54, 60, 66, 92, 0, 133, 52, 81, 89, 93, 74, 44, 120, 44, 173, 87, 96, 119, 78, 86, 69, 57, 54, 98, 69, 75, 76, 104, 89, 69, 51, 54, 109, 101, 111, 76, 67, 91, 139, 108, 77, 63, 13, 98, 74, 125, 142, 180, 181, 146, 207, 197,160, 247, 161, 147, 131, 111, 176, 149, 185, 193, 123, 137] \n",
    "#estos los datos correspondientes a la cantidad de contagios por dia"
   ]
  },
  {
   "cell_type": "code",
   "execution_count": 3,
   "id": "16535a68",
   "metadata": {},
   "outputs": [],
   "source": [
    "import matplotlib.pyplot as plt #importamos las librerias necesarias para graficar y para trabajar con numeros mas facil\n",
    "import numpy as np"
   ]
  },
  {
   "cell_type": "code",
   "execution_count": null,
   "id": "ed1070f5",
   "metadata": {},
   "outputs": [],
   "source": []
  },
  {
   "cell_type": "code",
   "execution_count": 4,
   "id": "a155c655",
   "metadata": {},
   "outputs": [],
   "source": [
    "Acumulador = 0 #creo un acumulador para usar luego en un ciclo\n",
    "casos_semanales = [] #creo una lista vacia para llenarla luego a traves de un ciclo\n",
    "while Acumulador < len(casos): #con el ciclo while, hago que el acumulador vaya usando de a 7 datos\n",
    "    Acumulador = Acumulador + 7\n",
    "    casos_semanales.append(sum(casos[Acumulador-7:Acumulador])/7) #agrego a la lista el promedio de cada 7 datos"
   ]
  },
  {
   "cell_type": "code",
   "execution_count": 17,
   "id": "a2d73940",
   "metadata": {},
   "outputs": [
    {
     "name": "stderr",
     "output_type": "stream",
     "text": [
      "C:\\Users\\esbas\\AppData\\Local\\Temp\\ipykernel_9736\\1857616926.py:9: UserWarning: Matplotlib is currently using module://matplotlib_inline.backend_inline, which is a non-GUI backend, so cannot show the figure.\n",
      "  fig.show() #muestro mi grafico\n"
     ]
    },
    {
     "data": {
      "image/png": "[encoded data removed]",
      "text/plain": [
       "<Figure size 432x288 with 1 Axes>"
      ]
     },
     "metadata": {
      "needs_background": "light"
     },
     "output_type": "display_data"
    }
   ],
   "source": [
    "figura = plt.figure() #para el grafico, creamos una figura\n",
    "\n",
    "grafico = figura.add_subplot(1,1,1) #creamos un grafico vacio\n",
    "grafico.scatter(np.arange(len(casos)/7)+1,casos_semanales) #agrego los valores de los ejes, para x: la cantidad de semanas, para y: mis datos de casos semanales\n",
    "grafico.set_title(\"Media movil semanal de casos COVID19 en la V Region\") #nombro ejes y titulo\n",
    "grafico.set_xlabel('Semana')\n",
    "grafico.set_ylabel('Promedio de casos por dia')\n",
    "\n",
    "fig.show() #muestro mi grafico"
   ]
  },
  {
   "cell_type": "code",
   "execution_count": null,
   "id": "d6e0e859",
   "metadata": {},
   "outputs": [],
   "source": []
  }
 ],
 "metadata": {
  "kernelspec": {
   "display_name": "Python 3 (ipykernel)",
   "language": "python",
   "name": "python3"
  },
  "language_info": {
   "codemirror_mode": {
    "name": "ipython",
    "version": 3
   },
   "file_extension": ".py",
   "mimetype": "text/x-python",
   "name": "python",
   "nbconvert_exporter": "python",
   "pygments_lexer": "ipython3",
   "version": "3.9.12"
  }
 },
 "nbformat": 4,
 "nbformat_minor": 5
}
