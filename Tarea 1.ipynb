{
 "cells": [
  {
   "cell_type": "code",
   "execution_count": 1,
   "metadata": {},
   "outputs": [
    {
     "name": "stdout",
     "output_type": "stream",
     "text": [
      "La suma de todos los numeros desde 0 a 100 es:  5050 , Gauss me lo dijo!\n"
     ]
    }
   ],
   "source": [
    "#AUTOR: BASTIAN O. ESPINOZA A. ; RUT: 20.939.750-1\n",
    "#Tarea 1.6:  Escriba un código que sume todos los números desde cero hasta 100.\n",
    "\n",
    "#Para realizar esta suma, sencillamente usamos la funcion sum, que suma los valores de una tupla.\n",
    "\n",
    "#Dentro de la funcion sum, para no tener que escribir desde 1 a 100, usamos la funcion range(a,b),\n",
    "#la cual cra una tupla que va desde \"a\" hasta \"b-1\"\n",
    "\n",
    "Suma_de_1_a_100 = sum(range(0,101))\n",
    "print(\"La suma de todos los numeros desde 0 a 100 es: \",Suma_de_1_a_100, \", Gauss me lo dijo!\")\n",
    "\n",
    "#finalmete imprimimos y el problema esta resuelto."
   ]
  },
  {
   "cell_type": "markdown",
   "metadata": {},
   "source": [
    "# Calificacion: 7.0\n",
    "Grande Gauss."
   ]
  }
 ],
 "metadata": {
  "kernelspec": {
   "display_name": "Python 3",
   "language": "python",
   "name": "python3"
  },
  "language_info": {
   "codemirror_mode": {
    "name": "ipython",
    "version": 3
   },
   "file_extension": ".py",
   "mimetype": "text/x-python",
   "name": "python",
   "nbconvert_exporter": "python",
   "pygments_lexer": "ipython3",
   "version": "3.8.3"
  },
  "toc": {
   "base_numbering": 1,
   "nav_menu": {},
   "number_sections": true,
   "sideBar": true,
   "skip_h1_title": false,
   "title_cell": "Table of Contents",
   "title_sidebar": "Contents",
   "toc_cell": false,
   "toc_position": {},
   "toc_section_display": true,
   "toc_window_display": false
  }
 },
 "nbformat": 4,
 "nbformat_minor": 5
}
