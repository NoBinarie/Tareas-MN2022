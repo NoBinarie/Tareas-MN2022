{
 "cells": [
  {
   "cell_type": "code",
   "execution_count": 1,
   "metadata": {},
   "outputs": [],
   "source": [
    "#TAREA 2.3 BASTIAN O. ESPINOZA A. RUT 209397501\n",
    "#A partir del siguiente array, representando una matriz, escriba un código\n",
    "#que produzca un nuevo sólo con los elementos de la segunda y tercera columna de cada fila, sin usar ciclos for ni while."
   ]
  },
  {
   "cell_type": "code",
   "execution_count": 2,
   "metadata": {},
   "outputs": [],
   "source": [
    "import numpy as np\n",
    "#importado numpy podemos trabajar con arreglos de datos"
   ]
  },
  {
   "cell_type": "code",
   "execution_count": 3,
   "metadata": {},
   "outputs": [],
   "source": [
    "matriz_original= np.array([[1,1,1,1,3],[1,1,1,1,5],[2,3,4,5,6],[2,2,2,2,8],[1,2,3,4,5]]) \n",
    "#Esta es nuestra matriz original, de la cual extraeremos solo el segundo elemento de cada lista dentro del arreglo"
   ]
  },
  {
   "cell_type": "code",
   "execution_count": 4,
   "metadata": {},
   "outputs": [
    {
     "name": "stdout",
     "output_type": "stream",
     "text": [
      "la matriz solicitada es: [[1]\n",
      " [1]\n",
      " [3]\n",
      " [2]\n",
      " [2]]\n"
     ]
    }
   ],
   "source": [
    "#Para ello simplemente creamos un nuevo variable matriz_solicitada para asignarle tales valores con operaciones de listas\n",
    "matriz_solicitada= matriz_original[:,1:2] #pido las listas dentro del arreglo [:], considerando solo el segundo elemento de \n",
    "#cada lista [1:2]\n",
    "print(\"la matriz solicitada es:\", matriz_solicitada)"
   ]
  },
  {
   "cell_type": "markdown",
   "metadata": {},
   "source": [
    "# Calificacion: 6.0\n",
    "\n",
    "Se pedia tanto la 2da como la 3ra columna de todas las filas, por lo cual el array resultante debiese ser uno (5x2), y no uno (5x1). El problema esta en tu `slice`, este debiese ir de ser **1:3**"
   ]
  },
  {
   "cell_type": "code",
   "execution_count": 7,
   "metadata": {},
   "outputs": [
    {
     "data": {
      "text/plain": [
       "array([[1, 1, 1, 1, 3],\n",
       "       [1, 1, 1, 1, 5],\n",
       "       [2, 3, 4, 5, 6],\n",
       "       [2, 2, 2, 2, 8],\n",
       "       [1, 2, 3, 4, 5]])"
      ]
     },
     "execution_count": 7,
     "metadata": {},
     "output_type": "execute_result"
    }
   ],
   "source": [
    "matriz_original"
   ]
  },
  {
   "cell_type": "code",
   "execution_count": 9,
   "metadata": {},
   "outputs": [
    {
     "data": {
      "text/plain": [
       "(5, 2)"
      ]
     },
     "execution_count": 9,
     "metadata": {},
     "output_type": "execute_result"
    }
   ],
   "source": [
    "matriz_original[:,1:3].shape"
   ]
  }
 ],
 "metadata": {
  "kernelspec": {
   "display_name": "Python 3",
   "language": "python",
   "name": "python3"
  },
  "language_info": {
   "codemirror_mode": {
    "name": "ipython",
    "version": 3
   },
   "file_extension": ".py",
   "mimetype": "text/x-python",
   "name": "python",
   "nbconvert_exporter": "python",
   "pygments_lexer": "ipython3",
   "version": "3.8.3"
  },
  "toc": {
   "base_numbering": 1,
   "nav_menu": {},
   "number_sections": true,
   "sideBar": true,
   "skip_h1_title": false,
   "title_cell": "Table of Contents",
   "title_sidebar": "Contents",
   "toc_cell": false,
   "toc_position": {},
   "toc_section_display": true,
   "toc_window_display": false
  }
 },
 "nbformat": 4,
 "nbformat_minor": 5
}
