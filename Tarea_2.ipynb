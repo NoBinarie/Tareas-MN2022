{
 "cells": [
  {
   "cell_type": "code",
   "execution_count": null,
   "id": "aad67bfa",
   "metadata": {},
   "outputs": [],
   "source": [
    "#TAREA 2.3 BASTIAN O. ESPINOZA A. RUT 209397501\n",
    "#A partir del siguiente array, representando una matriz, escriba un código\n",
    "#que produzca un nuevo sólo con los elementos de la segunda y tercera columna de cada fila, sin usar ciclos for ni while."
   ]
  },
  {
   "cell_type": "code",
   "execution_count": 2,
   "id": "dbbfa1d6",
   "metadata": {},
   "outputs": [],
   "source": [
    "import numpy as np\n",
    "#importado numpy podemos trabajar con arreglos de datos"
   ]
  },
  {
   "cell_type": "code",
   "execution_count": 3,
   "id": "fb0efd35",
   "metadata": {},
   "outputs": [],
   "source": [
    "matriz_original= np.array([[1,1,1,1,3],[1,1,1,1,5],[2,3,4,5,6],[2,2,2,2,8],[1,2,3,4,5]]) \n",
    "#Esta es nuestra matriz original, de la cual extraeremos solo el segundo elemento de cada lista dentro del arreglo"
   ]
  },
  {
   "cell_type": "code",
   "execution_count": 10,
   "id": "8c90ec87",
   "metadata": {},
   "outputs": [
    {
     "name": "stdout",
     "output_type": "stream",
     "text": [
      "la matriz solicitada es: [[1]\n",
      " [1]\n",
      " [3]\n",
      " [2]\n",
      " [2]]\n"
     ]
    }
   ],
   "source": [
    "#Para ello simplemente creamos un nuevo variable matriz_solicitada para asignarle tales valores con operaciones de listas\n",
    "matriz_solicitada= matriz_original[:,1:2] #pido las listas dentro del arreglo [:], considerando solo el segundo elemento de \n",
    "#cada lista [1:2]\n",
    "print(\"la matriz solicitada es:\", matriz_solicitada)"
   ]
  },
  {
   "cell_type": "code",
   "execution_count": null,
   "id": "1635d588",
   "metadata": {},
   "outputs": [],
   "source": []
  }
 ],
 "metadata": {
  "kernelspec": {
   "display_name": "Python 3 (ipykernel)",
   "language": "python",
   "name": "python3"
  },
  "language_info": {
   "codemirror_mode": {
    "name": "ipython",
    "version": 3
   },
   "file_extension": ".py",
   "mimetype": "text/x-python",
   "name": "python",
   "nbconvert_exporter": "python",
   "pygments_lexer": "ipython3",
   "version": "3.9.12"
  }
 },
 "nbformat": 4,
 "nbformat_minor": 5
}
