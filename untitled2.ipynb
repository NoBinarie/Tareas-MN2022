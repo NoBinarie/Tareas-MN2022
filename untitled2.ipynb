# -*- coding: utf-8 -*-
"""
Created on Wed Aug 24 15:24:37 2022

@author: Bastian Espinoza RUT:20.939.750-1
"""

#Tarea 1.6:  Escriba un código que sume todos los números desde cero hasta 100.

#Para realizar esta suma, sencillamente usamos la funcion sum, que suma los valores de una tupla.

#Dentro de la funcion sum, para no tener que escribir desde 1 a 100, usamos la funcion range(a,b),
#la cual cra una tupla que va desde "a" hasta "b-1"

Suma_de_1_a_100 = sum(range(1,101))
print(Suma_de_1_a_100)

#finalmete imprimimos y el problema esta resuelto.
