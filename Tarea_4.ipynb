{
 "cells": [
  {
   "cell_type": "code",
   "execution_count": 1,
   "metadata": {},
   "outputs": [],
   "source": [
    "#Tarea 4 Bastian O. Espinoza A. RUT 20939750-1\n",
    "\n",
    "#Escriba un código que le asigne tareas a los estudiantes. La lista de 20 estudiantes está en un archivo estudiantes.txt.\n",
    "#Hay un nombre de estudiante por línea. Su código debe asignarle a cada estudiante un número entre 1 y 10 que corresponde a \n",
    "#la tarea que debe resolver. La distribución de tareas debe ser aleatoria pero cada número debe aparecer exactamente dos veces \n",
    "#en la lista. El código debe producir un archivo con dos columnas llamado \"tarea.txt\", la primera columna contiene el nombre \n",
    "#del estudiante y la segunda columna contiene la tarea asignada."
   ]
  },
  {
   "cell_type": "code",
   "execution_count": 2,
   "metadata": {},
   "outputs": [],
   "source": [
    "#primero cree el archivo de texto con los nombres de una lista.\n",
    "\n",
    "nombres=[\"juan\",\"pedro\",\"maria\",\"jorge\",\"pablo\",\"bastian\",\"esteban\",\"vanesa\",\"amparo\",\"paola\",\"dumitru\",\"dario\",\"radouane\",\"olivera\",\"marco\",\"joel\",\"manuel\",\"nicolas\",\"susana\",\"ignacio\"]\n",
    "with open('Estudiantes.txt', 'w') as file:\n",
    "    for item in nombres:\n",
    "        file.write(\"%s\\n\" % item) #\"%s\\n\" es para que ponga un item por linea"
   ]
  },
  {
   "cell_type": "code",
   "execution_count": 4,
   "metadata": {},
   "outputs": [],
   "source": [
    "nombres2=[] #creo una nueva lista para los nombres, ya que estamos haciendo de cuentas que solo poseo un archivo de texto\n",
    "with open(\"Estudiantes.txt\",\"r\") as n: #abro el archivo en forma de lectura para extraer los nombres \n",
    "    for line in n:\n",
    "        x = line[:-1] #uso [:-1] porque el ultimo elemento de cada fila es el espacio-enter y asi tomo solo los nombres\n",
    "        nombres2.append(x) #agrego los nombres a mi lista vacia\n"
   ]
  },
  {
   "cell_type": "code",
   "execution_count": 7,
   "metadata": {},
   "outputs": [],
   "source": [
    "import random #importamos random para asignar un valor aleatorio luego\n",
    "lista = list(range(1,11))+list(range(1,11)) #creo una lista que contiene 2 veces los numeros del 1 al 10\n",
    "random.shuffle(lista) #mezclo de forma aleatoria los numeros en la lista\n",
    "nombre_y_tarea_asignada=list(zip(nombres,lista)) #ahora creo una lista que contenga los nombres junto a un numero de tarea ya randomizado\n"
   ]
  },
  {
   "cell_type": "code",
   "execution_count": 10,
   "metadata": {},
   "outputs": [],
   "source": [
    "with open('Tarea.txt', 'w') as file: #creo un archivo de texto llamado tarea y le escribo dentro mi lista de nombres+tarea asignada\n",
    "    file.write('\\n'.join('%s %s' % x for x in nombre_y_tarea_asignada))\n",
    "              "
   ]
  },
  {
   "cell_type": "markdown",
   "metadata": {},
   "source": [
    "# Calificacion: 7.0"
   ]
  }
 ],
 "metadata": {
  "kernelspec": {
   "display_name": "Python 3",
   "language": "python",
   "name": "python3"
  },
  "language_info": {
   "codemirror_mode": {
    "name": "ipython",
    "version": 3
   },
   "file_extension": ".py",
   "mimetype": "text/x-python",
   "name": "python",
   "nbconvert_exporter": "python",
   "pygments_lexer": "ipython3",
   "version": "3.8.3"
  },
  "toc": {
   "base_numbering": 1,
   "nav_menu": {},
   "number_sections": true,
   "sideBar": true,
   "skip_h1_title": false,
   "title_cell": "Table of Contents",
   "title_sidebar": "Contents",
   "toc_cell": false,
   "toc_position": {},
   "toc_section_display": true,
   "toc_window_display": false
  }
 },
 "nbformat": 4,
 "nbformat_minor": 5
}
