{
 "cells": [
  {
   "cell_type": "code",
   "execution_count": 11,
   "id": "4f9e85cb",
   "metadata": {},
   "outputs": [],
   "source": [
    "#Tarea 10.1 Bastian O. Espinoza A."
   ]
  },
  {
   "cell_type": "code",
   "execution_count": 12,
   "id": "880739b9",
   "metadata": {},
   "outputs": [],
   "source": [
    "import numpy as np"
   ]
  },
  {
   "cell_type": "code",
   "execution_count": 41,
   "id": "c2013430",
   "metadata": {},
   "outputs": [],
   "source": [
    "def gauss_quad_5(f, a, b):\n",
    "    \n",
    "    def x(t):\n",
    "        return ((b - a)*t + a + b)/2\n",
    "    \n",
    "    c = [0.2369268850, 0.4786286705, 0.5688888889, 0.4786286705, 0.2369268850]\n",
    "    r = [0.9061798459, 0.5384693101, 0.0000000000, -0.5384693101, -0.9061798459]\n",
    "    \n",
    "    return ((b-a)/2)*sum(c[i]*f(x(r[i])) for i in range(5))"
   ]
  },
  {
   "cell_type": "code",
   "execution_count": 29,
   "id": "fb3726a4",
   "metadata": {},
   "outputs": [],
   "source": [
    "def fp_l10(x):\n",
    "    if x == 0:\n",
    "        return 0\n",
    "    # Esta es la expansión de Taylor del exponencial, no de la función involucrada en la integral\n",
    "    taylor = sum(1/(np.math.factorial(n))*x**n for n in range(4))\n",
    "    return (np.log10(x)*np.exp(x) - taylor)/x**2"
   ]
  },
  {
   "cell_type": "code",
   "execution_count": 31,
   "id": "9fb478a7",
   "metadata": {},
   "outputs": [],
   "source": [
    "def fp_ln(x):\n",
    "    if x == 0:\n",
    "        return 0\n",
    "    # Esta es la expansión de Taylor del exponencial, no de la función involucrada en la integral\n",
    "    taylor = sum(1/(np.math.factorial(n))*x**n for n in range(4))\n",
    "    return (np.log(x)*np.exp(x) - taylor)/x**2"
   ]
  },
  {
   "cell_type": "code",
   "execution_count": 16,
   "id": "4ead44a3",
   "metadata": {},
   "outputs": [
    {
     "name": "stdout",
     "output_type": "stream",
     "text": [
      "integral 1: -142.68332616066994 integral 2: -245.90233063843837\n"
     ]
    }
   ],
   "source": [
    "suma = sum(1/((n+1)*np.math.factorial(n)) for n in range(4))\n",
    "print(\"integral 1:\",gauss_quad_5(fp_l10, 0, 1) + suma,\"integral 2:\", gauss_quad_5(fp_ln, 0, 1) + suma)\n",
    "\n",
    "\n"
   ]
  },
  {
   "cell_type": "markdown",
   "id": "ab1e3976",
   "metadata": {},
   "source": [
    "# Calificación: 3.0"
   ]
  },
  {
   "cell_type": "markdown",
   "id": "4355e5db",
   "metadata": {},
   "source": [
    "- No hay comentarios ni docstrings, y los nombres de las funciones son difíciles de leer -2.0 (ver programa donde dice que dos puntos corresponden a esto)\n",
    "- Se usó una serie de Taylor para el exponencial en vez de la seride de Taylor que se pedía. Estás haciendo la integral para una función completamente diferente a la del enunciado (que tenía un logaritmo). -1.0\n",
    "- Incluso usando esa función, la divergencia no se aisló de forma correcta. Hay que multiplicar la serie de Taylor por toda la función que multiplica a la exponencial (en tu caso que no es el del enunciado). A tí se te olvidó multiplicar por el logaritmo. -1.0"
   ]
  },
  {
   "cell_type": "code",
   "execution_count": null,
   "id": "84085da7",
   "metadata": {},
   "outputs": [],
   "source": []
  },
  {
   "cell_type": "code",
   "execution_count": null,
   "id": "7310ae45",
   "metadata": {},
   "outputs": [],
   "source": []
  },
  {
   "cell_type": "code",
   "execution_count": null,
   "id": "4227f468",
   "metadata": {},
   "outputs": [],
   "source": []
  }
 ],
 "metadata": {
  "kernelspec": {
   "display_name": "Python 3",
   "language": "python",
   "name": "python3"
  },
  "language_info": {
   "codemirror_mode": {
    "name": "ipython",
    "version": 3
   },
   "file_extension": ".py",
   "mimetype": "text/x-python",
   "name": "python",
   "nbconvert_exporter": "python",
   "pygments_lexer": "ipython3",
   "version": "3.10.6 (main, Nov  2 2022, 18:53:38) [GCC 11.3.0]"
  },
  "vscode": {
   "interpreter": {
    "hash": "916dbcbb3f70747c44a77c7bcd40155683ae19c65e1c03b4aa3499c5328201f1"
   }
  }
 },
 "nbformat": 4,
 "nbformat_minor": 5
}
