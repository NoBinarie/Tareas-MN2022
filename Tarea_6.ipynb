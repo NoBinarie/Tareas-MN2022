{
 "cells": [
  {
   "cell_type": "code",
   "execution_count": 121,
   "id": "7da0713d",
   "metadata": {},
   "outputs": [],
   "source": [
    "#Tarea 6.4 Bastian O. Espinoza A. RUT 20939750-1\n",
    "#Un cierto detector de partículas es golpeado por  100  partículas cada minuto, todas con la misma \n",
    "#velocidad de  0.99𝑐  donde  𝑐  es la velocidad de la luz. El detector mide la velocidad de lás \n",
    "#partículas con un error de  0.01𝑐 .\n",
    "#Escriba un código que simule la distribución de velocidades observadas por el detector en 10 segundos.\n",
    "#(Pista: Consulte cómo extraer un número aleatorio de una distribución discreta).\n",
    "#Grafique la distribuciòn de velocidades simulada."
   ]
  },
  {
   "cell_type": "code",
   "execution_count": 122,
   "id": "1c31451b",
   "metadata": {},
   "outputs": [],
   "source": [
    "import numpy as np #importamos las librerias necesarias para graficar y trabajar con distribuciones de probabilidad.\n",
    "import matplotlib.pyplot as plt"
   ]
  },
  {
   "cell_type": "code",
   "execution_count": 133,
   "id": "6eddac43",
   "metadata": {},
   "outputs": [],
   "source": [
    "dist_normal_velocidades = np.random.normal(0.99, 0.01, np.random.poisson(100/6,1))\n",
    "#creamos la distribucion normal de una cantidad de datos que arroja la distribucion discreta de poisson en 10 segundos\n",
    "#de medicion(como son 100 cada minuto y nos interesa el intervalo de 10 segundos, dividimos 100 en 6, 60 seg/6 = 10 seg),\n",
    "#con la velocidad esperada de 0.99c y el error de 0.01c "
   ]
  },
  {
   "cell_type": "code",
   "execution_count": 134,
   "id": "ca392dce",
   "metadata": {},
   "outputs": [
    {
     "data": {
      "image/png": "[encoded data removed]",
      "text/plain": [
       "<Figure size 432x288 with 1 Axes>"
      ]
     },
     "metadata": {
      "needs_background": "light"
     },
     "output_type": "display_data"
    }
   ],
   "source": [
    "plt.hist(dist_normal_velocidades) #creamos un histograma con los datos antes mencionados.\n",
    "plt.title(\"distribucion de velocidades en 10 segundos\")\n",
    "plt.ylabel(\"Repeticiones\")\n",
    "plt.xlabel(\"velocidad medida\")\n",
    "plt.legend\n",
    "plt.show()"
   ]
  },
  {
   "cell_type": "code",
   "execution_count": null,
   "id": "153cefa0",
   "metadata": {},
   "outputs": [],
   "source": []
  },
  {
   "cell_type": "code",
   "execution_count": null,
   "id": "c9d4668c",
   "metadata": {},
   "outputs": [],
   "source": []
  },
  {
   "cell_type": "code",
   "execution_count": null,
   "id": "ac46f821",
   "metadata": {},
   "outputs": [],
   "source": []
  },
  {
   "cell_type": "code",
   "execution_count": null,
   "id": "0f1f2eb7",
   "metadata": {},
   "outputs": [],
   "source": []
  }
 ],
 "metadata": {
  "kernelspec": {
   "display_name": "Python 3 (ipykernel)",
   "language": "python",
   "name": "python3"
  },
  "language_info": {
   "codemirror_mode": {
    "name": "ipython",
    "version": 3
   },
   "file_extension": ".py",
   "mimetype": "text/x-python",
   "name": "python",
   "nbconvert_exporter": "python",
   "pygments_lexer": "ipython3",
   "version": "3.9.12"
  }
 },
 "nbformat": 4,
 "nbformat_minor": 5
}
