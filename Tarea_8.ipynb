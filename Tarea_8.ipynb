{
 "cells": [
  {
   "cell_type": "code",
   "execution_count": null,
   "id": "0a85841d",
   "metadata": {},
   "outputs": [],
   "source": [
    "#Tarea 8.5 Bastian O. Espinoza A. \n",
    "#Haga una interpolación con polinomios de Lagrange y con spline cúbica a los siguientes datos. Compare y explique."
   ]
  },
  {
   "cell_type": "code",
   "execution_count": 31,
   "id": "25eada0b",
   "metadata": {},
   "outputs": [],
   "source": [
    "import numpy as np\n",
    "import matplotlib.pyplot as plt\n",
    "from scipy.interpolate import interp1d"
   ]
  },
  {
   "cell_type": "code",
   "execution_count": 32,
   "id": "a14c268d",
   "metadata": {},
   "outputs": [],
   "source": [
    "puntos = np.array([[0.0, 0.8554428669760865],\n",
    " [0.10256410256410256, 0.8192503889643609],\n",
    " [0.20512820512820512, 0.9106698108197717],\n",
    " [0.3076923076923077, 0.8712405328999302],\n",
    " [0.41025641025641024, 1.028882810913172],\n",
    " [0.5128205128205128, 0.9042429634802972],\n",
    " [0.6153846153846154, 0.855131704289422],\n",
    " [0.717948717948718, 0.8320615040511042],\n",
    " [0.8205128205128205, 0.5404161442504423],\n",
    " [0.923076923076923, 0.4607411363876057],\n",
    " [1.0256410256410255, 0.5230079911073856],\n",
    " [1.1282051282051282, 0.4319333734735373],\n",
    " [1.2307692307692308, 0.3194709855419703],\n",
    " [1.3333333333333333, 0.3176511643072673],\n",
    " [1.435897435897436, 0.08845060273327107],\n",
    " [1.5384615384615383, -0.1118729194358061],\n",
    " [1.641025641025641, -0.05123505155215124],\n",
    " [1.7435897435897436, -0.2758484321392249],\n",
    " [1.846153846153846, -0.3354753113897514],\n",
    " [1.9487179487179487, -0.26956032827356446],\n",
    " [2.051282051282051, -0.571247853583287],\n",
    " [2.1538461538461537, -0.7087933751789464],\n",
    " [2.2564102564102564, -0.7346123839017604],\n",
    " [2.358974358974359, -0.9422578154572859],\n",
    " [2.4615384615384617, -0.6839691792454056],\n",
    " [2.564102564102564, -0.9525757587137708],\n",
    " [2.6666666666666665, -0.8747644889180131],\n",
    " [2.769230769230769, -0.9126743380349072],\n",
    " [2.871794871794872, -1.0825927238281552],\n",
    " [2.9743589743589745, -1.0103075868775828],\n",
    " [3.0769230769230766, -0.907399219424252],\n",
    " [3.1794871794871793, -0.851996743383459],\n",
    " [3.282051282051282, -0.9446601118164999],\n",
    " [3.3846153846153846, -1.0173310927863406],\n",
    " [3.4871794871794872, -0.8906772736257376],\n",
    " [3.5897435897435894, -0.896632562845944],\n",
    " [3.692307692307692, -0.8524291153089643],\n",
    " [3.7948717948717947, -0.6563668686292993],\n",
    " [3.8974358974358974, -0.8565509469076233],\n",
    " [4.0, -0.6052319246737182]])"
   ]
  },
  {
   "cell_type": "code",
   "execution_count": 33,
   "id": "b5ed8d0b",
   "metadata": {},
   "outputs": [],
   "source": [
    "def difer(puntos): #coeficientes de cada termino para x puntos \n",
    "    \n",
    "    n = len(puntos) - 1\n",
    "    Fs = [np.zeros(n + 1)]\n",
    "    for i in range(n + 1):\n",
    "        Fs[0][i] = puntos[i][1]\n",
    "    for i in range(1, n + 1):\n",
    "        Fs.append(np.zeros(n + 1 - i))\n",
    "        for j in range(1, i + 1):\n",
    "            Fs[j][i-j] = (Fs[j-1][i-j+1] - Fs[j-1][i-j])/(puntos[i][0] - puntos[i-j][0])\n",
    "    \n",
    "    return [Fs[i][0] for i in range(n + 1)]"
   ]
  },
  {
   "cell_type": "code",
   "execution_count": 46,
   "id": "51a67a30",
   "metadata": {},
   "outputs": [],
   "source": [
    "def poly_lagrange(x, coefs, puntos): #polinomio de lagrange\n",
    "    return sum(coefs[n]*np.prod([(x - puntos[i,0]) for i in range(n)]) for n in range(len(coefs)))"
   ]
  },
  {
   "cell_type": "code",
   "execution_count": 97,
   "id": "d06b2bc6",
   "metadata": {},
   "outputs": [
    {
     "data": {
      "text/plain": [
       "[<matplotlib.lines.Line2D at 0x2b24d4dca90>]"
      ]
     },
     "execution_count": 97,
     "metadata": {},
     "output_type": "execute_result"
    },
    {
     "data": {
      "image/png": "[encoded data removed]",
      "text/plain": [
       "<Figure size 432x288 with 1 Axes>"
      ]
     },
     "metadata": {
      "needs_background": "light"
     },
     "output_type": "display_data"
    }
   ],
   "source": [
    "coef_lagrange = difer(puntos) #coeficientes del polinomio\n",
    "x = np.linspace(0,4,40) #puntos en el intervalo\n",
    "interpolacion_lagrange = [poly_lagrange(xi,coef_lagrange,puntos) for xi in x] #f(x) interpolado con lagrange\n",
    "plt.plot(x,interpolacion_lagrange)\n",
    "#plt.scatter(puntos[:,0],puntos[:,1])"
   ]
  },
  {
   "cell_type": "code",
   "execution_count": 55,
   "id": "aabf180b",
   "metadata": {},
   "outputs": [],
   "source": [
    "def spline_coefs(puntos): #definimos la funcion que encuentra los coeficientes de cada termino del polinomio.\n",
    "    \n",
    "    n = len(puntos) - 1\n",
    "    \n",
    "    h = np.zeros(n)\n",
    "    for i in range(n):\n",
    "        h[i] = puntos[i + 1][0] - puntos[i][0]\n",
    "    \n",
    "    a = puntos[:,1]\n",
    "    alpha = np.zeros(n - 1)\n",
    "    for i in range(1, n):\n",
    "        alpha[i-1] = (3/h[i])*(a[i+1] - a[i]) - (3/h[i-1])*(a[i] - a[i-1])\n",
    "        \n",
    "        \n",
    "    # Se resuelve un sistema de ecuaciones:\n",
    "    l = np.ones(n + 1)\n",
    "    mu = np.zeros(n)\n",
    "    z = np.zeros(n + 1)\n",
    "    for i in range(1, n):\n",
    "        l[i] = 2*(puntos[i+1][0] - puntos[i-1][0]) - h[i-1]*mu[i-1]\n",
    "        mu[i] = h[i]/l[i]\n",
    "        z[i] = (alpha[i-1] - h[i-1]*z[i-1])/l[i]\n",
    "    b = np.zeros(n)\n",
    "    c = np.zeros(n+1)\n",
    "    d = np.zeros(n)\n",
    "    for j in range(n-1,-1,-1):\n",
    "        c[j] = z[j] - mu[j]*c[j+1]\n",
    "        b[j] = (a[j+1] - a[j])/h[j] - h[j]*(c[j+1] + 2*c[j])/3\n",
    "        d[j] = (c[j+1] - c[j])/(3*h[j])\n",
    "        \n",
    "    return a, b, c, d"
   ]
  },
  {
   "cell_type": "code",
   "execution_count": 56,
   "id": "822fb93e",
   "metadata": {},
   "outputs": [],
   "source": [
    "def spline_eval(x, coefs, puntos): #definimos la funcion de spline cubica\n",
    "\n",
    "    if x >= puntos[-1,0]:\n",
    "        return puntos[-1,1]\n",
    "    elif x <= puntos[0,0]:\n",
    "        return puntos[0,1]\n",
    "    \n",
    "    i = find_ind(x, puntos)\n",
    "    a, b, c, d = coefs\n",
    "    return (a[i] + b[i]*(x - puntos[i][0]) + \\\n",
    "            c[i]*(x - puntos[i][0])**2 + d[i]*(x - puntos[i][0])**3)"
   ]
  },
  {
   "cell_type": "code",
   "execution_count": 93,
   "id": "591fb587",
   "metadata": {},
   "outputs": [
    {
     "data": {
      "text/plain": [
       "[<matplotlib.lines.Line2D at 0x2b24d33ba60>]"
      ]
     },
     "execution_count": 93,
     "metadata": {},
     "output_type": "execute_result"
    },
    {
     "data": {
      "image/png": "[encoded data removed]",
      "text/plain": [
       "<Figure size 432x288 with 1 Axes>"
      ]
     },
     "metadata": {
      "needs_background": "light"
     },
     "output_type": "display_data"
    }
   ],
   "source": [
    "coef_cubi= spline_coefs(puntos) #coeficientes spline cubica\n",
    "x2 = np.linspace(0, 4, 10000) #puntos en el intervalo\n",
    "spline = [spline_eval(xi, coef_cubi, puntos) for xi in x2] #f(x) interpolado cubicamente\n",
    "#plt.scatter(puntos[:,0], puntos[:,1], color='red')\n",
    "plt.plot(x2, spline)"
   ]
  },
  {
   "cell_type": "code",
   "execution_count": 105,
   "id": "cb409d7a",
   "metadata": {},
   "outputs": [
    {
     "data": {
      "text/plain": [
       "[<matplotlib.lines.Line2D at 0x2b2491a1eb0>]"
      ]
     },
     "execution_count": 105,
     "metadata": {},
     "output_type": "execute_result"
    },
    {
     "data": {
      "image/png": "[encoded data removed]",
      "text/plain": [
       "<Figure size 432x288 with 1 Axes>"
      ]
     },
     "metadata": {
      "needs_background": "light"
     },
     "output_type": "display_data"
    }
   ],
   "source": [
    "#claramente la interpolacion spline cubica es mas efectiva, esto es porque al tomar 4 coeficientes en vez de 1, la precision\n",
    "#aumenta, de forma que podemos tomar mayor cantidad de subintervalos (mas pequeños) dentro de un intervalo de x\n",
    "#el polinomio de lagrange es mas tosco, y se rompe al intentar hacerlo con mas subintervalos\n",
    "coef_lagrange = difer(puntos)\n",
    "x3 = np.linspace(0,4,100) #aumentamos la cantidad de puntos en el intervalo \n",
    "interpolacion_lagrange = [poly_lagrange(xi,coef_lagrange,puntos) for xi in x3]\n",
    "plt.plot(x3,interpolacion_lagrange)"
   ]
  },
  {
   "cell_type": "code",
   "execution_count": null,
   "id": "7eab8406",
   "metadata": {},
   "outputs": [],
   "source": []
  }
 ],
 "metadata": {
  "kernelspec": {
   "display_name": "Python 3 (ipykernel)",
   "language": "python",
   "name": "python3"
  },
  "language_info": {
   "codemirror_mode": {
    "name": "ipython",
    "version": 3
   },
   "file_extension": ".py",
   "mimetype": "text/x-python",
   "name": "python",
   "nbconvert_exporter": "python",
   "pygments_lexer": "ipython3",
   "version": "3.9.12"
  }
 },
 "nbformat": 4,
 "nbformat_minor": 5
}
