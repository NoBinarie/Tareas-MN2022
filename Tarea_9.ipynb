{
 "cells": [
  {
   "cell_type": "code",
   "execution_count": null,
   "id": "df397990",
   "metadata": {},
   "outputs": [],
   "source": [
    "#Tarea 9.5 Bastian O. Espinoza A.\n",
    "#En clase escribimos un código para el método de Romberg en el cual el usuario debe ingresar el número de filas a calcular.\n",
    "#Modifique el código para que el usuario especifique una precisión y el método se detenga cuando sea alcanzada esa precisión.\n",
    "#Para estimar el error cometido en el cálculo de una integral se puede comparar el resultado obtenido en una fila dada,\n",
    "#con el resultado obtenido en la fila anterior."
   ]
  },
  {
   "cell_type": "code",
   "execution_count": 1,
   "id": "5671b7d6",
   "metadata": {},
   "outputs": [],
   "source": [
    "import numpy as np "
   ]
  },
  {
   "cell_type": "code",
   "execution_count": 2,
   "id": "43101f6f",
   "metadata": {},
   "outputs": [],
   "source": [
    "def print_row(lst): # creo una funcion que guarde los datos de cada  fila para luego compararla con la precision introducida\n",
    "    print (' '.join('%11.8f' % x for x in lst))"
   ]
  },
  {
   "cell_type": "code",
   "execution_count": 30,
   "id": "b5129738",
   "metadata": {},
   "outputs": [
    {
     "name": "stdout",
     "output_type": "stream",
     "text": [
      "Especifique el valor de precisión 0.00001\n"
     ]
    }
   ],
   "source": [
    "def romberg(f, a, b, eps = float(input('Especifique el valor de precisión '))): \n",
    "    R = [[0.5 * (b - a) * (f(a) + f(b))]]  # agregamos un input a la funcion, cosa de poder especificar el nivel de presicion\n",
    "    print_row(R[0])\n",
    "    n = 1\n",
    "    while True: \n",
    "        h = float(b-a)/2**n\n",
    "        R.append((n+1)*[None])  # agrego una fila con valor none\n",
    "        R[n][0] = 0.5*R[n-1][0] + h*sum(f(a+(2*k-1)*h) for k in range(1, 2**(n-1)+1)) # No es correcto!!\n",
    "        for m in range(1, n+1):\n",
    "            R[n][m] = R[n][m-1] + (R[n][m-1] - R[n-1][m-1]) / (4**m - 1)\n",
    "        print_row(R[n])\n",
    "        if abs(R[n][n-1] - R[n][n]) < eps: # Esto no compara una fila con la anterior si no una columna con la anterior\n",
    "            return R[n][n]\n",
    "        n += 1"
   ]
  },
  {
   "cell_type": "code",
   "execution_count": 31,
   "id": "f089f469",
   "metadata": {},
   "outputs": [
    {
     "name": "stdout",
     "output_type": "stream",
     "text": [
      " 8.38905610\n",
      " 6.91280988  6.42072780\n",
      " 6.52161011  6.39121019  6.38924235\n",
      " 6.42229782  6.38919373  6.38905929  6.38905639\n"
     ]
    },
    {
     "data": {
      "text/plain": [
       "6.389056389097693"
      ]
     },
     "execution_count": 31,
     "metadata": {},
     "output_type": "execute_result"
    }
   ],
   "source": [
    "romberg(np.exp,0,2)"
   ]
  },
  {
   "cell_type": "code",
   "execution_count": 32,
   "id": "44c6667f",
   "metadata": {},
   "outputs": [
    {
     "data": {
      "text/plain": [
       "7.38905609893065"
      ]
     },
     "execution_count": 32,
     "metadata": {},
     "output_type": "execute_result"
    }
   ],
   "source": [
    "np.exp(2)"
   ]
  },
  {
   "cell_type": "markdown",
   "id": "f794f58e",
   "metadata": {},
   "source": [
    "# Calificación: 6.0"
   ]
  },
  {
   "cell_type": "markdown",
   "id": "8f0584f6",
   "metadata": {},
   "source": [
    "Fue un intento valiente. Sin embargo la integración no es correcta (comparar con el código de clase). También, hubo una confusión entre filas y columnas al estimar el error."
   ]
  },
  {
   "cell_type": "code",
   "execution_count": null,
   "id": "fa852ab9",
   "metadata": {},
   "outputs": [],
   "source": []
  },
  {
   "cell_type": "code",
   "execution_count": null,
   "id": "0f54149b",
   "metadata": {},
   "outputs": [],
   "source": []
  }
 ],
 "metadata": {
  "kernelspec": {
   "display_name": "Python 3",
   "language": "python",
   "name": "python3"
  },
  "language_info": {
   "codemirror_mode": {
    "name": "ipython",
    "version": 3
   },
   "file_extension": ".py",
   "mimetype": "text/x-python",
   "name": "python",
   "nbconvert_exporter": "python",
   "pygments_lexer": "ipython3",
   "version": "3.10.6 (main, Nov  2 2022, 18:53:38) [GCC 11.3.0]"
  },
  "vscode": {
   "interpreter": {
    "hash": "916dbcbb3f70747c44a77c7bcd40155683ae19c65e1c03b4aa3499c5328201f1"
   }
  }
 },
 "nbformat": 4,
 "nbformat_minor": 5
}
