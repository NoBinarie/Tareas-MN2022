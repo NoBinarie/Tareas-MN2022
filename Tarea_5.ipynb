{
 "cells": [
  {
   "cell_type": "code",
   "execution_count": 1,
   "id": "0d100d12",
   "metadata": {},
   "outputs": [],
   "source": [
    "# Tarea 5 Bastian O. Espinoza A. 20939750-1\n",
    "#Repita el problema de la urna pero con reemplazo. Es decir, luego de sacar cada bola esta se vuelve a poner en la urna.\n",
    "#Si se extraen cuatro bolas de la urna, ¿cuál es la probabilidad de que todas sean rojas? \n",
    "#Responda este problema escribiendo un código, modificando las funciones escritas en la clase para tomar en cuenta el reemplazo."
   ]
  },
  {
   "cell_type": "code",
   "execution_count": 2,
   "id": "c5792f2f",
   "metadata": {},
   "outputs": [],
   "source": [
    "import itertools #importamos todas las librerias necesarias para trabajar con el problema\n",
    "import random\n",
    "import matplotlib.pyplot as plt\n",
    "import numpy as np"
   ]
  },
  {
   "cell_type": "code",
   "execution_count": 3,
   "id": "6e2e6d91",
   "metadata": {},
   "outputs": [],
   "source": [
    "def prob(evento, espacio): #definimos la funcion probabilidad, que regresa la probabilidad de que ocurra un evento dentro de\n",
    "    return (len(evento & espacio)/len(espacio)) #                                                                 un espacio\n",
    "def unir(color, numeros): # definimos la funcion unir, que nos sirve para asignarle valores de colores a una lista de numeros\n",
    "    return {color + numero for numero in numeros}\n",
    "def todos_rojos(evento): #definimos la funcion todos_rojos, que nos devuelve todas las combinaciones para las que todas las\n",
    "    s = [i[0] for i in evento] #                                                                  bolas extraidas son rojas\n",
    "    return s.count('R') == 4"
   ]
  },
  {
   "cell_type": "code",
   "execution_count": 4,
   "id": "18ea93fd",
   "metadata": {},
   "outputs": [
    {
     "name": "stdout",
     "output_type": "stream",
     "text": [
      "la probabilidad de que al sacar 4 bolitas con reposicion, todas  sean rojas es de: 1.4229249011857708 %\n"
     ]
    }
   ],
   "source": [
    "urna = unir('B', '12345678') | unir('A', '123456') | unir('R', '123456789') #usamos la urna pequeña primero\n",
    "espacio = set(itertools.combinations(urna, 4)) #creamos el espacio de todas las posibles combinaciones\n",
    "rojos = {e for e in espacio if todos_rojos(e)} #creamos el diccionario con el numero de combinaciones en las que todas las\n",
    "#                                                                                                          bolas son rojas\n",
    "print(\"la probabilidad de que al sacar 4 bolitas con reposicion, todas  sean rojas es de:\", prob(rojos, espacio)*100,\"%\")\n"
   ]
  },
  {
   "cell_type": "code",
   "execution_count": 9,
   "id": "8999479c",
   "metadata": {},
   "outputs": [],
   "source": [
    "def unir(color, numero): #definimos una nueva funcion unir, para trabajar con una mayor cantidad de numeros, para que la funcion\n",
    "    return {color + str(n + 1) for n in range(numero)}\n",
    "\n",
    "urna2 = list(unir('B', 800) | unir('A', 600) | unir('R', 900)) #creamos la urna grande"
   ]
  },
  {
   "cell_type": "code",
   "execution_count": 16,
   "id": "aa73432a",
   "metadata": {},
   "outputs": [],
   "source": [
    "muestra = {tuple(random.choices(urna2, k = 4)) for i in range(100000)} #al ser tan grande, usamos una cantidad limitada de\n",
    "#                                                                                       combinaciones, en este caso 100000"
   ]
  },
  {
   "cell_type": "code",
   "execution_count": 28,
   "id": "d312d7b2",
   "metadata": {},
   "outputs": [],
   "source": [
    "rojos = {e for e in muestra if todos_rojos(e)} #creamos la libreria con las combinaciones para las que todas las bolas son\n",
    "#                                                    rojas en la cantidad definida anteriormente de combinaciones(muestra)"
   ]
  },
  {
   "cell_type": "code",
   "execution_count": 26,
   "id": "d6bc5db0",
   "metadata": {},
   "outputs": [
    {
     "data": {
      "text/plain": [
       "0.023675"
      ]
     },
     "execution_count": 26,
     "metadata": {},
     "output_type": "execute_result"
    }
   ],
   "source": [
    "prob(rojos, muestra)#esta es la probabilidad de una muestra de 100000 combinaciones al azar para las que al extraer 4 bolas\n",
    "#                                                                            todas son rojas, este valor cambiara cada vez"
   ]
  },
  {
   "cell_type": "code",
   "execution_count": 29,
   "id": "3231f09d",
   "metadata": {},
   "outputs": [],
   "source": [
    "sims = 100 #ahora para obtener un valor mas representativo de la probabilidad, correremos o simularemos la funcion varias veces\n",
    "puntos = 200000 #este es el tamaño de la muestra de posibles combinaciones \n",
    "probs = np.zeros(sims) #creamos un array de 0s, que sera llenado posteriormente con las probabilidades\n",
    "\n",
    "for i in range(sims): #en este ciclo creamos la muestra, las combinaciones solo rojas y la probabilidad de que todas sean rojas\n",
    "    muestra = {tuple(random.choices(urna2, k = 4)) for i in range(puntos)} #                                para n simulaciones\n",
    "    rojos = {e for e in muestra if todos_rojos(e)}\n",
    "    probs[i] = prob(rojos, muestra)"
   ]
  },
  {
   "cell_type": "code",
   "execution_count": 35,
   "id": "c3eb11b2",
   "metadata": {},
   "outputs": [],
   "source": [
    "probs.mean() # con el promedio de las probabilidades, obtenemos nuestro valor representativo y el coeficiente de variacion\n",
    "#                                                                                                             de los datos\n",
    "coef_var = probs.std()/probs.mean()"
   ]
  },
  {
   "cell_type": "code",
   "execution_count": 36,
   "id": "bd3724c2",
   "metadata": {},
   "outputs": [
    {
     "name": "stdout",
     "output_type": "stream",
     "text": [
      "La probabilidad de que al sacar 4 bolitas, todas estas sean rojas, es de aproximadamente: 2.3417149999999998 % con un coeficiente de variacion de: 0.12115348770621001 %\n"
     ]
    }
   ],
   "source": [
    "print(\"La probabilidad de que al sacar 4 bolitas, todas estas sean rojas, es de aproximadamente:\", probs.mean()*100,\"%\",\"con un coeficiente de variacion de:\",coef_var*10, \"%\" )"
   ]
  },
  {
   "cell_type": "code",
   "execution_count": null,
   "id": "ba91b092",
   "metadata": {},
   "outputs": [],
   "source": []
  },
  {
   "cell_type": "code",
   "execution_count": null,
   "id": "af68a31f",
   "metadata": {},
   "outputs": [],
   "source": []
  }
 ],
 "metadata": {
  "kernelspec": {
   "display_name": "Python 3 (ipykernel)",
   "language": "python",
   "name": "python3"
  },
  "language_info": {
   "codemirror_mode": {
    "name": "ipython",
    "version": 3
   },
   "file_extension": ".py",
   "mimetype": "text/x-python",
   "name": "python",
   "nbconvert_exporter": "python",
   "pygments_lexer": "ipython3",
   "version": "3.9.12"
  }
 },
 "nbformat": 4,
 "nbformat_minor": 5
}
